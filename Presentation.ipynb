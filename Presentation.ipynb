{
 "cells": [
  {
   "cell_type": "markdown",
   "metadata": {
    "slideshow": {
     "slide_type": "slide"
    }
   },
   "source": [
    "  # Laby Python \n",
    "  \n",
    "  #### Erwan Cornic et Nicolas Hainak  ![Fourmi](include/laby/tiles_png/ant-n.png)"
   ]
  },
  {
   "cell_type": "markdown",
   "metadata": {
    "slideshow": {
     "slide_type": "slide"
    }
   },
   "source": [
    "## TER \n",
    "#### Travail d'Étude et de Recherche \n",
    "#### Master 1 Informatique Paris 11 (Paris-Saclay) "
   ]
  },
  {
   "cell_type": "markdown",
   "metadata": {
    "slideshow": {
     "slide_type": "slide"
    }
   },
   "source": [
    "# Jupyter \n",
    "\n",
    "Utiliser Jupyter de manière interactive \n"
   ]
  },
  {
   "cell_type": "markdown",
   "metadata": {
    "slideshow": {
     "slide_type": "-"
    }
   },
   "source": [
    "Permet de coder en Python et C++ ( Dans plus de 50 langages ) "
   ]
  },
  {
   "cell_type": "markdown",
   "metadata": {
    "slideshow": {
     "slide_type": "subslide"
    }
   },
   "source": [
    "Utilisation intéractive "
   ]
  },
  {
   "cell_type": "code",
   "execution_count": 1,
   "metadata": {},
   "outputs": [
    {
     "data": {
      "text/plain": [
       "4"
      ]
     },
     "execution_count": 1,
     "metadata": {},
     "output_type": "execute_result"
    }
   ],
   "source": [
    "2+2"
   ]
  },
  {
   "cell_type": "code",
   "execution_count": 2,
   "metadata": {},
   "outputs": [
    {
     "name": "stdout",
     "output_type": "stream",
     "text": [
      "47\n"
     ]
    }
   ],
   "source": [
    "x=12+35\n",
    "print(x)"
   ]
  },
  {
   "cell_type": "code",
   "execution_count": 3,
   "metadata": {
    "scrolled": true,
    "slideshow": {
     "slide_type": "subslide"
    }
   },
   "outputs": [],
   "source": [
    "def power(x,y):\n",
    "    t=1\n",
    "    for i in range (0,y):\n",
    "        t=t*x\n",
    "    return t    "
   ]
  },
  {
   "cell_type": "code",
   "execution_count": 4,
   "metadata": {},
   "outputs": [
    {
     "data": {
      "text/plain": [
       "64"
      ]
     },
     "execution_count": 4,
     "metadata": {},
     "output_type": "execute_result"
    }
   ],
   "source": [
    "power(2,6)"
   ]
  },
  {
   "cell_type": "code",
   "execution_count": 5,
   "metadata": {},
   "outputs": [
    {
     "data": {
      "text/plain": [
       "64"
      ]
     },
     "execution_count": 5,
     "metadata": {},
     "output_type": "execute_result"
    }
   ],
   "source": [
    "pow(2,6)"
   ]
  },
  {
   "cell_type": "code",
   "execution_count": 6,
   "metadata": {
    "slideshow": {
     "slide_type": "subslide"
    }
   },
   "outputs": [
    {
     "ename": "NameError",
     "evalue": "name 'random' is not defined",
     "output_type": "error",
     "traceback": [
      "\u001b[0;31m---------------------------------------------------------------------------\u001b[0m",
      "\u001b[0;31mNameError\u001b[0m                                 Traceback (most recent call last)",
      "\u001b[0;32m<ipython-input-6-b7db218fb260>\u001b[0m in \u001b[0;36m<module>\u001b[0;34m\u001b[0m\n\u001b[0;32m----> 1\u001b[0;31m \u001b[0mx\u001b[0m\u001b[0;34m=\u001b[0m\u001b[0mrandom\u001b[0m\u001b[0;34m.\u001b[0m\u001b[0mrandom\u001b[0m\u001b[0;34m(\u001b[0m\u001b[0;34m)\u001b[0m\u001b[0;34m\u001b[0m\u001b[0;34m\u001b[0m\u001b[0m\n\u001b[0m",
      "\u001b[0;31mNameError\u001b[0m: name 'random' is not defined"
     ]
    }
   ],
   "source": [
    "x=random.random()"
   ]
  },
  {
   "cell_type": "code",
   "execution_count": 7,
   "metadata": {
    "slideshow": {
     "slide_type": "-"
    }
   },
   "outputs": [],
   "source": [
    "import random "
   ]
  },
  {
   "cell_type": "code",
   "execution_count": 8,
   "metadata": {},
   "outputs": [],
   "source": [
    "x=random.random()"
   ]
  },
  {
   "cell_type": "code",
   "execution_count": 9,
   "metadata": {
    "scrolled": true
   },
   "outputs": [
    {
     "data": {
      "text/plain": [
       "0.6161169659026657"
      ]
     },
     "execution_count": 9,
     "metadata": {},
     "output_type": "execute_result"
    }
   ],
   "source": [
    "x"
   ]
  },
  {
   "cell_type": "code",
   "execution_count": 10,
   "metadata": {
    "slideshow": {
     "slide_type": "subslide"
    }
   },
   "outputs": [],
   "source": [
    "import matplotlib.pyplot as plt\n",
    "import random\n"
   ]
  },
  {
   "cell_type": "code",
   "execution_count": 11,
   "metadata": {
    "slideshow": {
     "slide_type": "-"
    }
   },
   "outputs": [],
   "source": [
    "def alea(x):\n",
    "    cpt_0 = 0\n",
    "    cpt_1 = 1\n",
    "    for i in range(1,x):\n",
    "        x = random.random()\n",
    "        if x > 0.5:\n",
    "            cpt_1 += 1\n",
    "        else:\n",
    "            cpt_0 += 1\n",
    "    return cpt_0,cpt_1\n"
   ]
  },
  {
   "cell_type": "code",
   "execution_count": 12,
   "metadata": {
    "slideshow": {
     "slide_type": "subslide"
    }
   },
   "outputs": [
    {
     "data": {
      "text/plain": [
       "(27, 23)"
      ]
     },
     "execution_count": 12,
     "metadata": {},
     "output_type": "execute_result"
    }
   ],
   "source": [
    "aleatoire = alea(50)\n",
    "aleatoire\n"
   ]
  },
  {
   "cell_type": "code",
   "execution_count": 13,
   "metadata": {
    "slideshow": {
     "slide_type": "-"
    }
   },
   "outputs": [
    {
     "data": {
      "image/png": "[encoded data removed]",
      "text/plain": [
       "<Figure size 432x288 with 1 Axes>"
      ]
     },
     "metadata": {
      "needs_background": "light"
     },
     "output_type": "display_data"
    }
   ],
   "source": [
    "plt.bar(0,aleatoire[0], label = \"Pile\")\n",
    "plt.bar(1,aleatoire[1], label = \"Face\")\n",
    "plt.legend()\n",
    "plt.show()"
   ]
  },
  {
   "cell_type": "markdown",
   "metadata": {
    "slideshow": {
     "slide_type": "slide"
    }
   },
   "source": [
    "## Motivations et Objectifs \n",
    "\n",
    "\n",
    "   - Faire quelque chose d'intéractif\n",
    "    \n",
    "   - Faire quelque chose de concret\n",
    "    \n",
    "   - Implementer un outil réutilisable"
   ]
  },
  {
   "cell_type": "markdown",
   "metadata": {
    "slideshow": {
     "slide_type": "subslide"
    }
   },
   "source": [
    "# Démo"
   ]
  },
  {
   "cell_type": "code",
   "execution_count": 14,
   "metadata": {},
   "outputs": [],
   "source": [
    "from global_fr import *"
   ]
  },
  {
   "cell_type": "code",
   "execution_count": 15,
   "metadata": {},
   "outputs": [
    {
     "data": {
      "application/vnd.jupyter.widget-view+json": {
       "model_id": "02d929c9a54845488a7c280ea55349e8",
       "version_major": 2,
       "version_minor": 0
      },
      "text/plain": [
       "PlayerView(children=(View(children=(Image(value=b'\\x89PNG\\r\\n\\x1a\\n\\x00\\x00\\x00\\rIHDR\\x00\\x00\\x00 \\x00\\x00\\x00…"
      ]
     },
     "metadata": {},
     "output_type": "display_data"
    }
   ],
   "source": [
    "Laby(\"share/laby/levels/0.laby\")"
   ]
  },
  {
   "cell_type": "code",
   "execution_count": 16,
   "metadata": {},
   "outputs": [],
   "source": [
    "avance()\n",
    "avance()"
   ]
  },
  {
   "cell_type": "markdown",
   "metadata": {
    "slideshow": {
     "slide_type": "slide"
    }
   },
   "source": [
    "# Étapes de réalisation : \n",
    "\n",
    "### 1 - Transformation du code C++ à Python\n",
    "\n",
    "Laby.cpp -> Laby.py"
   ]
  },
  {
   "cell_type": "markdown",
   "metadata": {
    "slideshow": {
     "slide_type": "subslide"
    }
   },
   "source": [
    "### 2- Réalisation du ValuePlayerWidget\n",
    "\n",
    "\n",
    "Outil adaptable à la plupart des représentation d'algorithme à plusieurs étapes"
   ]
  },
  {
   "cell_type": "code",
   "execution_count": 17,
   "metadata": {},
   "outputs": [],
   "source": [
    "from WidgetsDemo import *\n"
   ]
  },
  {
   "cell_type": "markdown",
   "metadata": {
    "slideshow": {
     "slide_type": "subslide"
    }
   },
   "source": [
    "Création d'une Visualisation"
   ]
  },
  {
   "cell_type": "code",
   "execution_count": 18,
   "metadata": {
    "slideshow": {
     "slide_type": "-"
    }
   },
   "outputs": [],
   "source": [
    "visua=ipywidgets.IntSlider(\n",
    "        value=0,\n",
    "        min=0,\n",
    "        max=30,\n",
    "        step=1,\n",
    "        description=\"Valeur:\"\n",
    "\n",
    "        )"
   ]
  },
  {
   "cell_type": "markdown",
   "metadata": {
    "slideshow": {
     "slide_type": "subslide"
    }
   },
   "source": [
    "Création d'un player : "
   ]
  },
  {
   "cell_type": "code",
   "execution_count": 19,
   "metadata": {},
   "outputs": [],
   "source": [
    "player=ValuePlayerWidgets(visua)"
   ]
  },
  {
   "cell_type": "markdown",
   "metadata": {
    "slideshow": {
     "slide_type": "subslide"
    }
   },
   "source": [
    "Création d'un algo"
   ]
  },
  {
   "cell_type": "code",
   "execution_count": 20,
   "metadata": {},
   "outputs": [],
   "source": [
    "def mon_algo():\n",
    "    x=0\n",
    "    for i in range (0,20):\n",
    "        x+=1\n",
    "        player.set_value(x)\n",
    "    for i in range (0,20):\n",
    "        x-=1\n",
    "        player.set_value(x)"
   ]
  },
  {
   "cell_type": "code",
   "execution_count": 21,
   "metadata": {
    "slideshow": {
     "slide_type": "subslide"
    }
   },
   "outputs": [],
   "source": [
    "mon_algo()"
   ]
  },
  {
   "cell_type": "markdown",
   "metadata": {
    "slideshow": {
     "slide_type": "-"
    }
   },
   "source": [
    "Affichage de notre player "
   ]
  },
  {
   "cell_type": "code",
   "execution_count": 22,
   "metadata": {
    "scrolled": true
   },
   "outputs": [
    {
     "data": {
      "application/vnd.jupyter.widget-view+json": {
       "model_id": "c6d69bc77952438a99abed2833c4bfdf",
       "version_major": 2,
       "version_minor": 0
      },
      "text/plain": [
       "PlayerViews(children=(IntSlider(value=1, description='Valeur:', max=30), IntSlider(value=1, description='time:…"
      ]
     },
     "metadata": {},
     "output_type": "display_data"
    }
   ],
   "source": [
    "player"
   ]
  },
  {
   "cell_type": "code",
   "execution_count": 23,
   "metadata": {
    "scrolled": false,
    "slideshow": {
     "slide_type": "subslide"
    }
   },
   "outputs": [],
   "source": [
    "o=Laby(\"share/laby/levels/1b.laby\")"
   ]
  },
  {
   "cell_type": "code",
   "execution_count": 24,
   "metadata": {
    "scrolled": true
   },
   "outputs": [
    {
     "data": {
      "application/vnd.jupyter.widget-view+json": {
       "model_id": "1f40a2f6fac540c28f3b3cbe83e74860",
       "version_major": 2,
       "version_minor": 0
      },
      "text/plain": [
       "PlayerView(children=(View(children=(Image(value=b'\\x89PNG\\r\\n\\x1a\\n\\x00\\x00\\x00\\rIHDR\\x00\\x00\\x00 \\x00\\x00\\x00…"
      ]
     },
     "metadata": {},
     "output_type": "display_data"
    }
   ],
   "source": [
    "o"
   ]
  },
  {
   "cell_type": "code",
   "execution_count": 25,
   "metadata": {},
   "outputs": [
    {
     "data": {
      "text/plain": [
       "[[Tile(name='wall', char='o'),\n",
       "  Tile(name='wall', char='o'),\n",
       "  Tile(name='wall', char='o'),\n",
       "  Tile(name='wall', char='o'),\n",
       "  Tile(name='wall', char='o'),\n",
       "  Tile(name='wall', char='o'),\n",
       "  Tile(name='wall', char='o')],\n",
       " [Tile(name='wall', char='o'),\n",
       "  Tile(name='void', char='.'),\n",
       "  Tile(name='void', char='.'),\n",
       "  Tile(name='wall', char='o'),\n",
       "  Tile(name='void', char='.'),\n",
       "  Tile(name='void', char='.'),\n",
       "  Tile(name='exit', char='x')],\n",
       " [Tile(name='wall', char='o'),\n",
       "  Tile(name='void', char='.'),\n",
       "  Tile(name='void', char='.'),\n",
       "  Tile(name='rock', char='r'),\n",
       "  Tile(name='void', char='.'),\n",
       "  Tile(name='void', char='.'),\n",
       "  Tile(name='wall', char='o')],\n",
       " [Tile(name='wall', char='o'),\n",
       "  Tile(name='void', char='.'),\n",
       "  Tile(name='void', char='.'),\n",
       "  Tile(name='wall', char='o'),\n",
       "  Tile(name='void', char='.'),\n",
       "  Tile(name='void', char='.'),\n",
       "  Tile(name='wall', char='o')],\n",
       " [Tile(name='wall', char='o'),\n",
       "  Tile(name='wall', char='o'),\n",
       "  Tile(name='wall', char='o'),\n",
       "  Tile(name='wall', char='o'),\n",
       "  Tile(name='wall', char='o'),\n",
       "  Tile(name='wall', char='o'),\n",
       "  Tile(name='wall', char='o')]]"
      ]
     },
     "execution_count": 25,
     "metadata": {},
     "output_type": "execute_result"
    }
   ],
   "source": [
    "o.player.history[0].board.plateau"
   ]
  },
  {
   "cell_type": "code",
   "execution_count": null,
   "metadata": {},
   "outputs": [],
   "source": []
  },
  {
   "cell_type": "code",
   "execution_count": 18,
   "metadata": {},
   "outputs": [],
   "source": [
    "\n",
    "debut()\n",
    "avance()\n",
    "droite()\n",
    "avance()\n",
    "avance()\n",
    "prend()\n",
    "droite()\n",
    "droite()\n",
    "pose()\n",
    "droite()\n",
    "droite()\n",
    "avance()\n",
    "avance()\n",
    "avance()\n",
    "gauche()\n",
    "avance()\n",
    "droite()\n",
    "ouvre()\n",
    "avance()"
   ]
  },
  {
   "cell_type": "markdown",
   "metadata": {
    "slideshow": {
     "slide_type": "slide"
    }
   },
   "source": [
    "# Technologie découverte"
   ]
  },
  {
   "cell_type": "markdown",
   "metadata": {},
   "source": [
    "- Jupyter\n",
    "\n",
    "- ipywidgets\n",
    "\n",
    "- Rise"
   ]
  },
  {
   "cell_type": "markdown",
   "metadata": {
    "slideshow": {
     "slide_type": "subslide"
    }
   },
   "source": [
    "# Concept "
   ]
  },
  {
   "cell_type": "markdown",
   "metadata": {},
   "source": [
    "- MVC :\n",
    "    - modèle : Labyrinthe\n",
    "    - vue : Widget d'affichage\n",
    "    - controleur : \n",
    "        - fonctions :avance()\n",
    "        - Boutons de gestion de l'historique \n",
    "\n",
    "- Transformation C++ à Python"
   ]
  },
  {
   "cell_type": "code",
   "execution_count": null,
   "metadata": {
    "slideshow": {
     "slide_type": "subslide"
    }
   },
   "outputs": [],
   "source": [
    "enum Tile {\n",
    "    AntE, AntN, AntS, AntW, Exit, SmallRock, SmallWeb, Rock, Void, Wall, Web, Outside, RandomRock, RandomWeb\n",
    "};\n",
    "\n",
    "// Assumption: fake tiles are rendered as void\n",
    "std::vector<std::string> tilenames = {\n",
    "    \"ant-e\", \"ant-n\", \"ant-s\", \"ant-w\", \"exit\", \"nrock\", \"nweb\", \"rock\", \"void\", \"wall\", \"web\", \"void\", \"void\", \"void\"\n",
    "};\n",
    "\n",
    "std::vector<std::string> tilechars = {\n",
    "    u8\"→\", u8\"↑\", u8\"↓\", u8\"←\", \"x\", \"ŕ\", \"ẃ\", \"r\", \".\", \"o\", \"w\", \" \", \"R\", \"W\"\n",
    "};"
   ]
  },
  {
   "cell_type": "code",
   "execution_count": null,
   "metadata": {
    "slideshow": {
     "slide_type": "subslide"
    }
   },
   "outputs": [],
   "source": [
    "class Tiles():\n",
    "        Ant_E=Tile(name=\"ant-e\",char=\"→\")\n",
    "        Ant_N=Tile(name=\"ant-n\",char=\"↑\")\n",
    "        Ant_S=Tile(name=\"ant-s\",char=\"↓\")\n",
    "        Ant_W=Tile(name=\"ant-w\",char=\"←\")\n",
    "        Exit=Tile(name=\"exit\",char=\"x\")\n",
    "        SmallRock=Tile(name=\"nrock\",char=\"ŕ\")\n",
    "        SmallWeb=Tile(name=\"nweb\",char=\"ẃ\")\n",
    "        Rock=Tile(name=\"rock\",char=\"r\")\n",
    "        Void=Tile(name=\"void\",char=\".\")\n",
    "        Wall=Tile(name=\"wall\",char=\"o\")\n",
    "        Web=Tile(name=\"web\",char=\"w\")\n",
    "        Outside=Tile(name=\"void\",char=\" \")\n",
    "        RandomRock=Tile(name=\"void\",char=\"R\")\n",
    "        RandomWeb=Tile(name=\"void\",char=\"W\")\n",
    "        \n",
    "Tiles.tile2Png=dict()        \n",
    "Tiles.char2N=dict()\n",
    "Tiles.char2Tile=dict()\n",
    "for t in Tiles.__dict__.values():\n",
    "    if isinstance(t, Tile):\n",
    "        pof = t.name\n",
    "        image = \"include/laby/tiles_png/\" + pof + \".png\"\n",
    "        file = open (image,'rb')\n",
    "        image_lu = file.read()\n",
    "        Tiles.tile2Png[t]=(widgets.Image(value = image_lu, format='png', layout=widgets.Layout(display=\"flex\",\n",
    "        margin=\"1\" ,padding=\"0\", width=\"50%\"\n",
    "        )))\n",
    "        Tiles.char2N[t.char]=t.name\n",
    "        Tiles.char2Tile[t.char]=t"
   ]
  },
  {
   "cell_type": "markdown",
   "metadata": {
    "slideshow": {
     "slide_type": "subslide"
    }
   },
   "source": [
    "# Méthodologie de développement\n",
    "\n",
    "- Collaboration\n",
    "\n",
    "- Écoute des attentes "
   ]
  },
  {
   "cell_type": "markdown",
   "metadata": {
    "slideshow": {
     "slide_type": "slide"
    }
   },
   "source": [
    "# Retour d'éxperience"
   ]
  },
  {
   "cell_type": "markdown",
   "metadata": {},
   "source": [
    "###  Jupyter : adapté pour plusieurs types d'intéractions "
   ]
  },
  {
   "cell_type": "markdown",
   "metadata": {},
   "source": [
    "##### Les Widgets : \n",
    "   - interaction (Laby)\n",
    "   - interaction avec des bouttons (Jeux des cruches)\n",
    "   - interactions avec le code ( Algo 0-20,20-0 )"
   ]
  },
  {
   "cell_type": "markdown",
   "metadata": {
    "slideshow": {
     "slide_type": "slide"
    }
   },
   "source": [
    "# Nos conseils, Quoi faire avec Jupyter ?"
   ]
  },
  {
   "cell_type": "markdown",
   "metadata": {
    "slideshow": {
     "slide_type": "subslide"
    }
   },
   "source": [
    "### Coder comme dans un éditeur classique :\n"
   ]
  },
  {
   "cell_type": "code",
   "execution_count": 25,
   "metadata": {},
   "outputs": [
    {
     "data": {
      "text/plain": [
       "160.0"
      ]
     },
     "execution_count": 25,
     "metadata": {},
     "output_type": "execute_result"
    }
   ],
   "source": [
    "2+2*3+456/3"
   ]
  },
  {
   "cell_type": "markdown",
   "metadata": {
    "slideshow": {
     "slide_type": "subslide"
    }
   },
   "source": [
    "### Faire des choses interactives :"
   ]
  },
  {
   "cell_type": "code",
   "execution_count": 26,
   "metadata": {},
   "outputs": [],
   "source": [
    "visua=ipywidgets.IntSlider(\n",
    "        value=0,\n",
    "        min=0,\n",
    "        max=30,\n",
    "        step=1,\n",
    "        description=\"Valeur:\"\n",
    "\n",
    "        )"
   ]
  },
  {
   "cell_type": "code",
   "execution_count": 27,
   "metadata": {},
   "outputs": [
    {
     "data": {
      "application/vnd.jupyter.widget-view+json": {
       "model_id": "f991579c19ab44d98e2ec555fcbe8316",
       "version_major": 2,
       "version_minor": 0
      },
      "text/plain": [
       "IntSlider(value=0, description='Valeur:', max=30)"
      ]
     },
     "metadata": {},
     "output_type": "display_data"
    }
   ],
   "source": [
    "visua"
   ]
  },
  {
   "cell_type": "markdown",
   "metadata": {
    "slideshow": {
     "slide_type": "subslide"
    }
   },
   "source": [
    "### Représentation de graphiques : "
   ]
  },
  {
   "cell_type": "code",
   "execution_count": null,
   "metadata": {},
   "outputs": [],
   "source": [
    "plt.bar(0,aleatoire[0], label = \"Pile\")\n",
    "plt.bar(1,aleatoire[1], label = \"Face\")\n",
    "plt.legend()\n",
    "plt.show()"
   ]
  },
  {
   "cell_type": "markdown",
   "metadata": {
    "slideshow": {
     "slide_type": "subslide"
    }
   },
   "source": [
    "### Utilisation de widgets :"
   ]
  },
  {
   "cell_type": "code",
   "execution_count": null,
   "metadata": {},
   "outputs": [],
   "source": [
    "Laby(\"share/laby/levels/2a.laby\")"
   ]
  },
  {
   "cell_type": "markdown",
   "metadata": {
    "slideshow": {
     "slide_type": "subslide"
    }
   },
   "source": [
    "### Utile au débuggage  "
   ]
  },
  {
   "cell_type": "code",
   "execution_count": null,
   "metadata": {},
   "outputs": [],
   "source": [
    "x=125*256\n",
    "y=153+23\n",
    "b=23\n",
    "x=x/b\n",
    "c=y*x\n",
    "b=y-y\n",
    "x=x/b\n"
   ]
  },
  {
   "cell_type": "code",
   "execution_count": null,
   "metadata": {
    "slideshow": {
     "slide_type": "subslide"
    }
   },
   "outputs": [],
   "source": [
    "x=125*256\n",
    "y=153+23\n",
    "b=23\n",
    "print(b)"
   ]
  },
  {
   "cell_type": "code",
   "execution_count": null,
   "metadata": {},
   "outputs": [],
   "source": [
    "x=x/b\n",
    "c=y*x\n",
    "b=y-y\n",
    "print(b)"
   ]
  },
  {
   "cell_type": "code",
   "execution_count": null,
   "metadata": {
    "scrolled": true
   },
   "outputs": [],
   "source": [
    "x=x/b"
   ]
  },
  {
   "cell_type": "markdown",
   "metadata": {
    "slideshow": {
     "slide_type": "slide"
    }
   },
   "source": [
    "# Merci !![Fourmi](include/laby/tiles_png/ant-n.png)"
   ]
  }
 ],
 "metadata": {
  "celltoolbar": "Diaporama",
  "kernelspec": {
   "display_name": "Python 3",
   "language": "python",
   "name": "python3"
  },
  "language_info": {
   "codemirror_mode": {
    "name": "ipython",
    "version": 3
   },
   "file_extension": ".py",
   "mimetype": "text/x-python",
   "name": "python",
   "nbconvert_exporter": "python",
   "pygments_lexer": "ipython3",
   "version": "3.8.2"
  }
 },
 "nbformat": 4,
 "nbformat_minor": 4
}
