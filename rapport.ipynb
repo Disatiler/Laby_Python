{
 "cells": [
  {
   "cell_type": "markdown",
   "metadata": {},
   "source": [
    "# Rapport Laby_Python\n",
    "![laby](laby.png)\n",
    "### Cornic Erwan et Hainak Nicolas "
   ]
  },
  {
   "cell_type": "markdown",
   "metadata": {},
   "source": [
    "## Sommaire : \n",
    "<a name=\"sommaire\"></a>"
   ]
  },
  {
   "cell_type": "markdown",
   "metadata": {},
   "source": [
    "\n",
    "- 3 - [Mise en contexte](#mise)\t\n",
    "\n",
    "- 4- [Dévelopement du projet](#dev)\n",
    "\n",
    "    - 4.1 - [Objectifs et motivations](#objectifs)\t\n",
    "\n",
    "    - 4.2 - [Etapes de réalisation](#etapes)\t\n",
    "    \n",
    "    - 4.3 - [Fonctionnement](#fonctionnement)\n",
    "    \n",
    "    - 4.3 - [Autocritique](#auto)\n",
    "\n",
    "- 5-  [Expériences acquises](#experiences)\n",
    "\n",
    "    - 5.1 - [Technologies](#tech)\n",
    "\n",
    "    - 5.2 - [Programmation](#prog)\n",
    "    \n",
    "    - 5.3 - [Méthodologie](#meth)\n",
    "\n",
    "- 6-   [Retour d’expérience](#retour)\n",
    "\n",
    "    - 6.1 - [Note à un étudiant](#note)\t\n",
    "\n",
    "    - 6.2 - [Préconisations](#prec)\t\n",
    "\t\n",
    "    \n",
    "[Annexe](#annexe) : \n",
    "\n",
    "  -   [Instructions](#instructions)\n",
    "  -   [Construction](#cons)\n"
   ]
  },
  {
   "cell_type": "markdown",
   "metadata": {},
   "source": [
    "<a name=\"mise\"></a>\n",
    "### Mise en contexte\n",
    "\n",
    ">Le but de ce TER (travaux d'études et de recherches), est de faire des implémentations d'algorithmes qui soient interactifs, ce qui a pour objectif de voir l'évolution d'un algorithme pas à pas. Pour ce faire on utilise des widgets, il en existe de toutes sortes qui permettent de faire un grand nombre d'intéractions.\n",
    "\n",
    ">Pour ce projet, nous avons choisi de partir sur l'idée de transformer Laby (un outil que l'on a utilisé en première année de licence, qui permet d'apprendre à utiliser la base de la programmation) qui est de base un programme en C++ en Python, et par la suite ajouter de l'interaction à ce programme, chose que l'on expliquera par la suite. Ce jeu est assez simple à comprendre, le joueur contrôle une fourmi qui doit arriver à la porte, cela représente la sortie du niveau. Pour ce faire, le joueur peut appeler différentes méthodes qui permettent à la fourmi de se déplacer, bien sûr plus l’utilisateur avance dans les niveaux, plus il y aura de choses à gérer. Déplacer des obstacles pour en détruire par exemple.\n",
    "\n",
    "\n",
    "<a name=\"demo\"></a>"
   ]
  },
  {
   "cell_type": "code",
   "execution_count": 5,
   "metadata": {},
   "outputs": [
    {
     "ename": "FileNotFoundError",
     "evalue": "[Errno 2] No such file or directory: '0'",
     "output_type": "error",
     "traceback": [
      "\u001b[0;31m---------------------------------------------------------------------------\u001b[0m",
      "\u001b[0;31mFileNotFoundError\u001b[0m                         Traceback (most recent call last)",
      "\u001b[0;32m<ipython-input-5-7d83dd337777>\u001b[0m in \u001b[0;36m<module>\u001b[0;34m\u001b[0m\n\u001b[1;32m      1\u001b[0m \u001b[0;32mfrom\u001b[0m \u001b[0mglobal_fr\u001b[0m \u001b[0;32mimport\u001b[0m \u001b[0;34m*\u001b[0m\u001b[0;34m\u001b[0m\u001b[0m\n\u001b[0;32m----> 2\u001b[0;31m \u001b[0mLaby\u001b[0m\u001b[0;34m(\u001b[0m\u001b[0;34m\"0\"\u001b[0m\u001b[0;34m)\u001b[0m\u001b[0;34m\u001b[0m\u001b[0m\n\u001b[0m",
      "\u001b[0;32m/mnt/c/Users/erwan/Desktop/TER/Laby_Python/global_fr.py\u001b[0m in \u001b[0;36mLaby\u001b[0;34m(s)\u001b[0m\n\u001b[1;32m     18\u001b[0m     \u001b[0;32mglobal\u001b[0m \u001b[0mview\u001b[0m\u001b[0;34m\u001b[0m\u001b[0m\n\u001b[1;32m     19\u001b[0m     \u001b[0;32mglobal\u001b[0m \u001b[0mplayer\u001b[0m\u001b[0;34m\u001b[0m\u001b[0m\n\u001b[0;32m---> 20\u001b[0;31m     \u001b[0mlaby\u001b[0m \u001b[0;34m=\u001b[0m \u001b[0mlabyrinth\u001b[0m\u001b[0;34m(\u001b[0m\u001b[0ms\u001b[0m\u001b[0;34m)\u001b[0m\u001b[0;34m\u001b[0m\u001b[0m\n\u001b[0m\u001b[1;32m     21\u001b[0m     \u001b[0mview\u001b[0m \u001b[0;34m=\u001b[0m \u001b[0mView\u001b[0m\u001b[0;34m(\u001b[0m\u001b[0mdeepcopy\u001b[0m\u001b[0;34m(\u001b[0m\u001b[0mlaby\u001b[0m\u001b[0;34m)\u001b[0m\u001b[0;34m)\u001b[0m\u001b[0;34m\u001b[0m\u001b[0m\n\u001b[1;32m     22\u001b[0m     \u001b[0mplayer\u001b[0m\u001b[0;34m=\u001b[0m\u001b[0mValuePlayerWidget\u001b[0m\u001b[0;34m(\u001b[0m\u001b[0mview\u001b[0m\u001b[0;34m)\u001b[0m\u001b[0;34m\u001b[0m\u001b[0m\n",
      "\u001b[0;32m/mnt/c/Users/erwan/Desktop/TER/Laby_Python/laby_widget.py\u001b[0m in \u001b[0;36m__init__\u001b[0;34m(self, s)\u001b[0m\n\u001b[1;32m    107\u001b[0m         \u001b[0mself\u001b[0m\u001b[0;34m.\u001b[0m\u001b[0m_won\u001b[0m \u001b[0;34m=\u001b[0m \u001b[0;32mFalse\u001b[0m\u001b[0;34m\u001b[0m\u001b[0m\n\u001b[1;32m    108\u001b[0m         \u001b[0mself\u001b[0m\u001b[0;34m.\u001b[0m\u001b[0mcarry\u001b[0m \u001b[0;34m=\u001b[0m \u001b[0mTiles\u001b[0m\u001b[0;34m.\u001b[0m\u001b[0mVoid\u001b[0m\u001b[0;34m\u001b[0m\u001b[0m\n\u001b[0;32m--> 109\u001b[0;31m         \u001b[0mself\u001b[0m\u001b[0;34m.\u001b[0m\u001b[0mtemp\u001b[0m \u001b[0;34m=\u001b[0m \u001b[0mcharger\u001b[0m\u001b[0;34m(\u001b[0m\u001b[0ms\u001b[0m\u001b[0;34m)\u001b[0m\u001b[0;34m\u001b[0m\u001b[0m\n\u001b[0m\u001b[1;32m    110\u001b[0m         \u001b[0mself\u001b[0m\u001b[0;34m.\u001b[0m\u001b[0mdirection\u001b[0m \u001b[0;34m=\u001b[0m \u001b[0mself\u001b[0m\u001b[0;34m.\u001b[0m\u001b[0mtemp\u001b[0m\u001b[0;34m[\u001b[0m\u001b[0;36m3\u001b[0m\u001b[0;34m]\u001b[0m\u001b[0;34m\u001b[0m\u001b[0m\n\u001b[1;32m    111\u001b[0m         \u001b[0mself\u001b[0m\u001b[0;34m.\u001b[0m\u001b[0mboard\u001b[0m \u001b[0;34m=\u001b[0m \u001b[0mBoard\u001b[0m\u001b[0;34m(\u001b[0m\u001b[0mself\u001b[0m\u001b[0;34m.\u001b[0m\u001b[0mtemp\u001b[0m\u001b[0;34m[\u001b[0m\u001b[0;36m0\u001b[0m\u001b[0;34m]\u001b[0m\u001b[0;34m)\u001b[0m\u001b[0;34m\u001b[0m\u001b[0m\n",
      "\u001b[0;32m/mnt/c/Users/erwan/Desktop/TER/Laby_Python/laby_widget.py\u001b[0m in \u001b[0;36mcharger\u001b[0;34m(nom_niveau)\u001b[0m\n\u001b[1;32m     58\u001b[0m \u001b[0;34m\u001b[0m\u001b[0m\n\u001b[1;32m     59\u001b[0m \u001b[0;32mdef\u001b[0m \u001b[0mcharger\u001b[0m\u001b[0;34m(\u001b[0m\u001b[0mnom_niveau\u001b[0m\u001b[0;34m)\u001b[0m\u001b[0;34m:\u001b[0m\u001b[0;34m\u001b[0m\u001b[0m\n\u001b[0;32m---> 60\u001b[0;31m     \u001b[0mfichier\u001b[0m \u001b[0;34m=\u001b[0m \u001b[0mopen\u001b[0m\u001b[0;34m(\u001b[0m\u001b[0mnom_niveau\u001b[0m\u001b[0;34m,\u001b[0m \u001b[0;34m'r+'\u001b[0m\u001b[0;34m)\u001b[0m\u001b[0;34m\u001b[0m\u001b[0m\n\u001b[0m\u001b[1;32m     61\u001b[0m     \u001b[0mtab\u001b[0m \u001b[0;34m=\u001b[0m \u001b[0;34m[\u001b[0m\u001b[0;34m]\u001b[0m\u001b[0;34m\u001b[0m\u001b[0m\n\u001b[1;32m     62\u001b[0m     \u001b[0mi\u001b[0m\u001b[0;34m=\u001b[0m\u001b[0;36m0\u001b[0m\u001b[0;34m\u001b[0m\u001b[0m\n",
      "\u001b[0;31mFileNotFoundError\u001b[0m: [Errno 2] No such file or directory: '0'"
     ]
    }
   ],
   "source": [
    "from global_fr import *\n",
    "Laby(\"0\")\n"
   ]
  },
  {
   "cell_type": "code",
   "execution_count": 8,
   "metadata": {},
   "outputs": [],
   "source": [
    "debut()\n",
    "avance()\n",
    "avance()\n",
    "avance()\n",
    "droite()\n",
    "avance()\n",
    "avance()\n",
    "ouvre()"
   ]
  },
  {
   "cell_type": "markdown",
   "metadata": {},
   "source": [
    ">Ce jeu a été porté sur Jupyther mais uniquement en langage C++, le but étant de répliquer cette implémentation en python. De plus, comme pour l'implémentation en C++ un value_player_widget est nécessaire pour gérer l'historique de notre niveau et pour pouvoir le réutiliser. Suite à des discussions avec nos camarades sur leurs projets et sur ce dont chacun avait besoin il est paru assez évident que le value_player_widget que nous implémentons leur sera utile pour gérer l'historique de leur algorithme.\n",
    "C'est pourquoi nous avons choisi de réaliser un value_player_widget séparer de notre Laby afin de pouvoir permettre à nos camarades de l'utiliser.\n",
    "\n",
    ">Pour s’y prendre nous avons utilisé Jupyter, c’est une application utilisée pour programmer dans un certain nombre de langages, notamment Julia, Python et R (d'où JUlia, PYThon, et R). C'est un outil très intéressant car il permet de séparer son code d'une manière fluide et de pouvoir faire des affichages simplifiés et de mettre du texte entre les cellules. Il y a aussi un certain nombre de bibliothèques qui permettent de réaliser beaucoup de tâches entre de la visualisation de graphe, la gestion de thread grâce à la bibliothèque Timer ou bien encore le fait de générer des nombres aléatoires.\n"
   ]
  },
  {
   "cell_type": "markdown",
   "metadata": {},
   "source": [
    "<a name=\"dev\"></a>\n",
    "# Dévelopement de notre projet\n",
    "\n",
    "\n",
    "<a name=\"objectifs\"></a>\n",
    "### Objectifs et motivations\n",
    "\n",
    ">Notre objectif est la transformation du jeu [Laby](#demo) de C++ en Python. Mais il faut d'abord prendre en main différents widgets pour trouver comment le rendre interactif, et par la suite implémenter notre propre widget d’affichage. \n",
    "\n",
    ">Notre Widget d'affichage sera un value_player_widget dont le but sera de relier notre algorithme à un historique afin de pouvoir naviguer dans celui-ci et avoir une trace de ce que l'on a codé. Ce widget sera composé uniquement de boutons permettant la naviguation dans l'historique (steps by steps , play , pause ect.) mais aussi d'un slider permettant d'accélerer la visualisation de l'algorithme et un slider permettant de montrer a quelle itération nous sommes et de naviguer directememnt dans l'historique.\n",
    "\n",
    ">Pour nos motivations nous voulons avoir quelque chose d'interactif et pratique d'utilisation, de concret comme le jeu de base pour apprendre des choses à des personnes qui vont utiliser ce programme, et enfin de réutilisable notamment avec le widget que l'on a implémenté et qui sera expliqué un peu plus tard."
   ]
  },
  {
   "cell_type": "markdown",
   "metadata": {},
   "source": [
    "<a name=\"etapes\"></a>\n",
    "  ## Etapes de réalisation\n",
    " \n",
    "\t\n",
    "    1) Nous avons commencé par comprendre comment le code était construit en C++.\n",
    "\t2) Nous avons dans un premier temps réalisé  l'affichage des différents niveaux.\n",
    "\t3) Par la suite, le déplacement de la fourmi, et les différentes fonctions qui vont avec. (porter, regarder etc.)\n",
    "\t4) La création de value_player_widget\n",
    "\t5) Le lien entre notre widget et la résolution du niveau.\n",
    "\n",
    "\n",
    ">Nous obtenons à la fin un niveau que l’on a chargé, une cellule du Notebook permettant de faire appels aux différentes fonctions pour contrôler la fourmi et deux sliders, un permettant de contrôler la vitesse d’exécution du code que l’on a écrit, et un autre permettant de choisir à quel moment de l’historique on veut aller.\n",
    "\n",
    "Pour les widgets que nous utilisons, il y a : \n",
    "\n",
    "HBox c’est un widget qui permet de créer une boîte horizontale, dans notre code elle contient les différents boutons que nous avons pour contrôler l’historique des actions que nous avons attribué à notre fourmi.\n",
    "\n",
    "VBox qui est une boîte verticale, ici elle contient notre labyrinthe (ou visualisation) puis nos boutons et enfin le message (dans le cas du labyrinthe).\n",
    "    GridBox est utilisé dans la classe View, elle permet de contenir notre labyrinthe sous forme d’images en png.\n",
    "    \n",
    "Et enfin les sliders, notamment FloatSlider qui gère à quelle vitesse les actions s'enchaînent dans le labyrinthe et un IntSlider qui contient pour chaque valeur une itération de la fourmi et qui représente notre historique. Il nous permet de naviguer dans celui-ci.\n",
    "\n"
   ]
  },
  {
   "cell_type": "markdown",
   "metadata": {},
   "source": [
    "<a name=\"fonctionnement\"></a>\n",
    "### Fonctionnement de Laby et de value_player_widget\n",
    "\n",
    ">Le fonctionnement de Laby est simple : \n",
    "Laby(\"0\") permet de charger le niveau 0 et peut-être remplacé par nimporte quel autre niveau déjà créé.\n",
    "Pour jouer et faire se déplacer la fourmi des [instructions](#instructions) simples sont a utilisées (indiquées dans notre démo)\n",
    "telle que : avance(). Le but étant de réussir à ouvrir la porte et sortir du niveau. Les cailloux et toiles d'araignées sont des obstacles que l'on ne peut pas traverser tous comme les murs. Cependant notre fourmi peut soulever les cailloux et les déplacer. Elle peut en posant un caillou sur une toile d'araignée la détruire et libérer le passage. \n",
    "\n",
    ">Notre Value_player_widget est un outil permettant de créer et d'intéragir avec l'historique de nos éxecutions lorsque l'on exécute un algorithme ou lorsqu'on joue a Laby par exemple (vous pouvez voir nos exemples d'utilisation [ici](Presentation.ipynb) ou dans le rapport de notre camarade dans son utilisation pour le jeu des cruches [ici](https://gitlab.u-psud.fr/edwige.gros/ter-jupyter/blob/master/rapport.ipynb) ).\n",
    "Pour utiliser ce widget, vous devez créer une visualisation de votre côté, la donner en argument à notre value_player_widget et celui-ci va vous renvoyer votre affichage de visualisation avec notre widget. La dernière étape et d'ajouter dans votre algorithme la fonction : player.set_value(x) où x est votre value qui sera modifiée et qui impactera votre visualisation. Ce widgets est très adapté pour de la visualisation très simple via des sliders ou des box ipywidgets simples. Cependant nous nous sommes rendu compte que celui-ci était un peu plus adapté pour notre Laby par exemple qui était fait pour marcher avec. Mais très compliqué à adapter pour un jeu tel que le jeu des cruches ou dans l'implémentation actuelle de notre camarade. Les boutons font partis de l'affichage mais aussi de l'algorithme, ce qui créer des problèmes et une adaptabilité compliquée.\n",
    "La création de notre widget se réalise via une simple fonction telle que présentait dans la cellule suivante. La visualisation nous permet de créer un player. Celui-ci va gérer l'historique, via ce player, nous créons un PlayerView qui n'est autre que notre widget et ses fonctions qui agissent sur le player.\n",
    "Enfin nous retournons notre app créée."
   ]
  },
  {
   "cell_type": "code",
   "execution_count": 4,
   "metadata": {},
   "outputs": [],
   "source": [
    "def ValuePlayerWidget(visualisation):\n",
    "    player=Player(visualisation)\n",
    "    app=PlayerView(player) \n",
    "\n",
    "    return app"
   ]
  },
  {
   "cell_type": "markdown",
   "metadata": {},
   "source": [
    "<a name=\"auto\"></a>\n",
    "### Autocritique\n",
    "\n",
    ">Du coté Laby, nos idées d’amélioration : \n",
    "On pourrait implémenter des boutons qui iraient écrire directement dans une cellule en-dessous. Pour les boutons on aurait ceux de base :\n",
    " - Avance\n",
    " - Droite\n",
    " - Gauche\n",
    " - Prend\n",
    " - Regarde\n",
    " - Pose\n",
    " - Ouvre\n",
    " \n",
    ">Mais aussi quatre autres boutons qui serviront pour l’appel des boucles for, des boucles whiles, du if et enfin de la création d’une fonction. Une fois un des boutons appuyé on changerait son nom par Fin de For ou Fin de While (en fonction du bouton) pour fermer l'indentation du code, le bouton if serait remplacé par else/else if puis pour arrêter l’indentation.  \n",
    "Cela serait peut-être plus simple pour des personnes qui ne savent pas encore appuyer sur les touches d’un clavier avec une certaine rigueur.\n",
    "\n",
    ">Afficher correctement les cases de notre niveau car actuellement l'écart entre les lignes est correct mais concernant celui entre deux cases de la même ligne l'écart est beaucoup trop important. Il est donc difficile de savoir combien de cases nous séparent de la fin d'un couloir par exemple.\n",
    "\n",
    ">Mr Thiéry, qui est à l’origine de ce programme, avait commencé l’implémentation de la fonction sow(), qui laisse une trace du passage de la fourmi sur le labyrinthe. Cela pourrait être un ajout pour des labyrinthes avec plus de salles que des “couloirs”.\n",
    "Ajout de la superposition des images pour savoir quand notre fourmi porte un caillou ou non. Pour que ce soit plus simple à comprendre d’un seul coup d’oeil.\n",
    "\n",
    "\n",
    "\n",
    "\n",
    "\n",
    ">Côté Widget :  \n",
    "Via ces crossovers (utilisation du widget dans une des phases de travail du [projet](https://gitlab.u-psud.fr/ter-graphupsud/algorithme_des_plus-courts_chemins_en_cpp/blob/master/rapport.ipynb) d'un autre groupe de camarade) et pour les cruches. Nous nous sommes rendu compte que notre widget pouvait avoir plusieurs choses à améliorer.\n",
    "Tout d'abord si une personne ne maîtrise pas les widgets de visualisation, il est difficile de comprendre et d'utiliser facilement notre widget. De plus une idée d'amélioration rapide serait de donner directement un historique rempli et non les valeurs au fur et à mesure. Cela pourrait sans doute aider certain à comprendre plus facilement leurs erreurs.\n",
    "Enfin comme expliqué précédemment dans certains projets la visualisation et l'algorithme peuvent se rencontrer notamment dans des programmes intéractifs. Cela pose donc des problèmes d'adaptabilité de notre widget qui demande actuellement une stricte séparation de la visualisation et de l'algorithme. Pour améliorer notre widget nous devrions déplacer le slider time et la gestion du temps qui sont actuellement opérés dans le player afin que celle-ci soit réalisé dans le player view car c'est plus naturel étant donné que notre slider fait partie de l'affichage et que notre player view gère l'affichage."
   ]
  },
  {
   "cell_type": "markdown",
   "metadata": {},
   "source": [
    "<a name=\"experiences\"></a>\n",
    "### Expériences acquises\n",
    "<a name=\"tech\"></a>\n",
    "   #### Technologies\n",
    "\n",
    "\n",
    ">Tout d’abord, la prise en main de python, nous en avons tous les deux fait un peu durant notre licence mais sans jamais approfondir plus ce langage. Nous avons donc pu apprendre comment étaient gérées les classes, les méthodes statiques ou bien encore les nombreuses bibliothèque qu’il y a.\n",
    "\n",
    "\n",
    ">Concernant les bibliothèques, nous avons  beaucoup utilisé celle de ipywidgets, notamment pour les HBox, VBox ou encore GridBox. Nous avons eu l’avantage que cette bibliothèque soit assez complète en ligne avec des personnes qui avaient déjà eu les problèmes que nous avions rencontrés.\n",
    "\n",
    "\n",
    ">Et enfin Rise, qui est une extension de Jupyter Notebook qui permet de faire des diaporamas à partir de nos fichiers .ipynb, et, en plus de pouvoir exécuter du code pendant le diaporama.\n",
    "\n",
    "<a name=\"prog\"></a>\n",
    "   #### Programmation\n",
    "\n",
    "\n",
    ">Nous avons appris à transformer un code de C++ en python, avec les inconvénients de chacun des langages. Par exemple le fait d’énumérer toutes les tuiles du jeu, le timer ou encore l’héritage.\n",
    "\n",
    ">Le non-typage des variables en Python donne une facilité dans le code mais peut avoir dez problèmes en portée de variable par exemple.\n",
    "\n",
    ">Des structures simples de C++ telle que les class Enum (servant au énumération peuvent être diffèrentes en quelques points et donc ne plus convenir à l'utilisation dont nous avions besoin. \n",
    "\n",
    "\n",
    "<a name=\"meth\"></a>\n",
    "   #### Méthodologie\n",
    "\n",
    ">Avec notre value_player_widget, nos camarades peuvent avoir une visualisation pas à pas de leur(s) algorithme(s). \n",
    "\n",
    ">Étant donné que nous avions été deux pour ce projet, on a utilisé GitHub (un logiciel de contrôle de version permettant de partager des fichiers avec d’autres collaborateurs, sans modifier leur code) ce qui a été très pratique.\n"
   ]
  },
  {
   "cell_type": "markdown",
   "metadata": {},
   "source": [
    "<a name=\"retour\"></a>\n",
    "### Retour d’expérience\n",
    "\n",
    "\n",
    ">Avec ce projet, nous avons appris l’existence des widgets, qui permettent de faire des interactions avec nos algorithmes. Les widgets sont de différentes natures, on peut avoir des boutons ou encore des sliders. Nous pouvons donc dire que Jupyter est bien adapté dans le principe de programmation d’algorithme intéractif avec une bonne implémentation des algorithmes.\n",
    "\n",
    "<a name=\"note\"></a>\n",
    "**Note à un étudiant**\n",
    "\n",
    ">Jupyter permet de déboguer très facilement, en séparant notre code si on a une erreur, on peut localiser rapidement une erreur. \n",
    "Les jupyter notebooks peuvent être utiles pour créer un code, ajouter des commentaires ou des notes de façon claire tout en ayant des tests lisibles et des affichages progressifs.\n",
    "Pour la prise en main des widgets, il est préférable notamment pour le slider de commencer avec des exemples sur internet pour bien comprendre comment l’appeler et voir rapidement la plupart des possibilités d’utilisation.\n",
    "L'extension Rise de Jupyter permet de faire des Diaporama dynamiques en incluant du code et en ayant un facilité d'exécution et de simplicité .\n",
    "Pour ce qui est l’échelle du réalisable, nous n’avons pas vu de limite, en tout cas pour la partie des bibliothèques. Bien sûr certains algorithmes auront besoin de widgets en plus que les nôtres,et , qui ne sont pas encore implémentés.\n",
    "Concernant la partie difficile, c’est de passer d’un langage à un autre ou encore passer du temps pour implémenter des algorithmes alors qu’ils sont déjà faits dans des bibliothèques.\n",
    "\n",
    "<a name=\"prec\"></a>\n",
    "**Préconisations :** \n",
    "\n",
    ">Avoir une version Linux sous Windows ou un Linux natif, avoir (beaucoup) de places sur le disque si on souhaite avoir beaucoup de bibliothèques sous la main. Et avoir un bon niveau en anglais car comme souvent dans les codes en ligne on a beaucoup plus d’informations en ligne en anglais."
   ]
  },
  {
   "cell_type": "markdown",
   "metadata": {},
   "source": [
    "<a name=\"annexe\"></a>\n",
    "# Annexe"
   ]
  },
  {
   "cell_type": "markdown",
   "metadata": {},
   "source": [
    "<a name=\"instructions\"></a>\n",
    "## Instructions\n",
    "\n",
    "Voici les instructions utiles pour faire déplacer la fourmi:\n",
    "\n",
    "\n",
    "    avance();       // Fait un pas vers l'avant\n",
    "    droite();       // Fait pivoter la fourmi vers la droite\n",
    "    gauche();       // ou la gauche\n",
    "    prend();        // Prend le caillou situé sur la case devant la fourmi\n",
    "    pose();         // Pose le caillou devant la fourmi\n",
    "    regarde();      // Renvoie Vide, Caillou, Mur, Toile, Sortie, ou Inconnu\n",
    "                    // selon ce qui se trouve sur la case devant la fourmi\n",
    "\n",
    "    ouvre();        // Ouvre la porte située devant la fourmi (fin du niveau)\n",
    "    \n",
    "[Retour au fonctionnement.](#fonctionnement)"
   ]
  },
  {
   "cell_type": "markdown",
   "metadata": {},
   "source": [
    "<a name=\"cons\"></a>\n",
    "## Constructions\n",
    "\n",
    "**Construction de condition, boucle et fonction pour notre jeu:**\n",
    "\n",
    "Tant que la condition est respectée, répète les instructions:\n",
    "\n",
    "    while condition:\n",
    "        instructions\n",
    "    \n",
    "Pour tant d'itérations, répète les instructions:\n",
    "\n",
    "    for i in range (0,nombre d'itérations):\n",
    "        instructions\n",
    "        \n",
    "Si condition est vrai, exécute les instructions 1 sinon les instructions 2:\n",
    "\n",
    "    if  condition:\n",
    "        instructions1\n",
    "    else: \n",
    "        instructions2\n",
    "    \n",
    "\n",
    "Définit une fonction f:\n",
    "\n",
    "    def f(): \n",
    "        instructions\n",
    "    \n",
    "[Retour au fonctionnement.](#fonctionnement)"
   ]
  },
  {
   "cell_type": "code",
   "execution_count": null,
   "metadata": {},
   "outputs": [],
   "source": []
  },
  {
   "cell_type": "code",
   "execution_count": null,
   "metadata": {},
   "outputs": [],
   "source": []
  }
 ],
 "metadata": {
  "celltoolbar": "Tags",
  "kernelspec": {
   "display_name": "Python 3",
   "language": "python",
   "name": "python3"
  },
  "language_info": {
   "codemirror_mode": {
    "name": "ipython",
    "version": 3
   },
   "file_extension": ".py",
   "mimetype": "text/x-python",
   "name": "python",
   "nbconvert_exporter": "python",
   "pygments_lexer": "ipython3",
   "version": "3.5.2"
  }
 },
 "nbformat": 4,
 "nbformat_minor": 4
}
