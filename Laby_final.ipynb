{
 "cells": [
  {
   "cell_type": "markdown",
   "metadata": {},
   "source": [
    "Consultez la [documentation](#Documentation) ci-dessous."
   ]
  },
  {
   "cell_type": "code",
   "execution_count": 3,
   "metadata": {
    "slideshow": {
     "slide_type": "-"
    }
   },
   "outputs": [],
   "source": [
    "from global_fr import *"
   ]
  },
  {
   "cell_type": "code",
   "execution_count": 4,
   "metadata": {
    "scrolled": false,
    "slideshow": {
     "slide_type": "-"
    }
   },
   "outputs": [
    {
     "data": {
      "application/vnd.jupyter.widget-view+json": {
       "model_id": "a8c76b6d3f77491cb59935027f32fed0",
       "version_major": 2,
       "version_minor": 0
      },
      "text/plain": [
       "PlayerView(children=(View(children=(Image(value=b'\\x89PNG\\r\\n\\x1a\\n\\x00\\x00\\x00\\rIHDR\\x00\\x00\\x00 \\x00\\x00\\x00…"
      ]
     },
     "metadata": {},
     "output_type": "display_data"
    }
   ],
   "source": [
    "Laby(\"share/laby/levels/this-is-crazy.laby\")"
   ]
  },
  {
   "cell_type": "code",
   "execution_count": 5,
   "metadata": {},
   "outputs": [],
   "source": [
    "avance()\n",
    "avance()\n",
    "avance()\n",
    "avance()\n",
    "avance()\n",
    "avance()\n",
    "gauche()\n",
    "avance()\n",
    "prend()\n",
    "gauche()\n",
    "gauche()\n",
    "avance()\n",
    "gauche()\n",
    "avance()\n",
    "avance()\n",
    "avance()\n",
    "avance()\n",
    "pose()\n",
    "prend()\n",
    "gauche()\n",
    "gauche()\n",
    "pose()\n",
    "gauche()\n",
    "gauche()\n",
    "avance()\n",
    "avance()"
   ]
  },
  {
   "cell_type": "markdown",
   "metadata": {},
   "source": [
    "# Documentation\n"
   ]
  },
  {
   "cell_type": "markdown",
   "metadata": {},
   "source": [
    "## Constantes\n",
    "<table>\n",
    "    <tr><td>Mur         </td><td><img src=\"include/laby/tiles_png/wall.png\"/></td></tr>\n",
    "    <tr><td>Caillou     </td><td><img src=\"include/laby/tiles_png/rock.png\"/>\n",
    "        </td><td>PetitCaillou</td><td><img src=\"include/laby/tiles_png/nrock.png\"/></td></tr>\n",
    "    <tr><td>Toile       </td><td><img src=\"include/laby/tiles_png/web.png\"/></td>\n",
    "        <td>PetiteToile</td><td><img src=\"include/laby/tiles_png/nweb.png\"/></td></tr>\n",
    "    <tr><td>Vide        </td><td><img src=\"include/laby/tiles_png/void.png\"/></td>\n",
    "        <td>Inconnu     </td><td></td></tr>\n",
    "</table>\n",
    "\n",
    "## Instructions\n",
    "\n",
    "    avance();       // Fait un pas vers l'avant\n",
    "    droite();       // Fait pivoter la fourmi vers la droite\n",
    "    gauche();       // ou la gauche\n",
    "    prend();        // Prend le caillou situé sur la case devant la fourmi\n",
    "    pose();         // Pose le caillou devant la fourmi\n",
    "    regarde();      // Renvoie Vide, Caillou, Mur, Toile, Sortie, ou Inconnu\n",
    "                    // selon ce qui se trouve sur la case devant la fourmi\n",
    "\n",
    "    ouvre();        // Ouvre la porte située devant la fourmi (fin du niveau)\n",
    "\n",
    "## Constructions\n",
    "\n",
    "Tant que la condition est respectée, répète les instructions:\n",
    "\n",
    "    while condition:\n",
    "        instructions\n",
    "    \n",
    "Pour tant d'itérations, répète les instructions:\n",
    "\n",
    "    for i in range (0,nombre d'itération):\n",
    "        instructions\n",
    "        \n",
    "Si condition est vrai, exécute les instructions 1 sinon les instructions 2:\n",
    "\n",
    "    if  condition:\n",
    "        instructions1\n",
    "    else: \n",
    "        instructions2\n",
    "    \n",
    "\n",
    "Défini une fonction f:\n",
    "\n",
    "    def f(): \n",
    "        instructions\n",
    "    "
   ]
  },
  {
   "cell_type": "code",
   "execution_count": null,
   "metadata": {},
   "outputs": [],
   "source": []
  }
 ],
 "metadata": {
  "celltoolbar": "Diaporama",
  "kernelspec": {
   "display_name": "Python 3",
   "language": "python",
   "name": "python3"
  },
  "language_info": {
   "codemirror_mode": {
    "name": "ipython",
    "version": 3
   },
   "file_extension": ".py",
   "mimetype": "text/x-python",
   "name": "python",
   "nbconvert_exporter": "python",
   "pygments_lexer": "ipython3",
   "version": "3.8.2"
  }
 },
 "nbformat": 4,
 "nbformat_minor": 4
}
