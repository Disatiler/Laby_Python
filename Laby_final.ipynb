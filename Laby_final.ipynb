{
 "cells": [
  {
   "cell_type": "markdown",
   "metadata": {},
   "source": [
    "Consultez la [documentation](#Documentation) ci-dessous.\n",
    "La liste des [niveaux](#liste) ."
   ]
  },
  {
   "cell_type": "code",
   "execution_count": 1,
   "metadata": {
    "scrolled": false,
    "slideshow": {
     "slide_type": "-"
    }
   },
   "outputs": [
    {
     "data": {
      "application/vnd.jupyter.widget-view+json": {
       "model_id": "3c3a56038b3d4bc0b1d52038b23e777e",
       "version_major": 2,
       "version_minor": 0
      },
      "text/plain": [
       "PlayerView(children=(View(children=(Image(value=b'\\x89PNG\\r\\n\\x1a\\n\\x00\\x00\\x00\\rIHDR\\x00\\x00\\x00 \\x00\\x00\\x00…"
      ]
     },
     "metadata": {},
     "output_type": "display_data"
    }
   ],
   "source": [
    "from global_fr import *\n",
    "Laby(\"this-is-crazy\")"
   ]
  },
  {
   "cell_type": "code",
   "execution_count": 2,
   "metadata": {},
   "outputs": [],
   "source": [
    "avance()\n",
    "avance()\n",
    "avance()\n",
    "avance()\n",
    "avance()\n",
    "avance()\n",
    "gauche()\n",
    "avance()\n",
    "prend()\n",
    "gauche()\n",
    "gauche()\n",
    "avance()\n",
    "gauche()\n",
    "avance()\n",
    "avance()\n",
    "avance()\n",
    "avance()\n",
    "pose()\n",
    "prend()\n",
    "gauche()\n",
    "gauche()\n",
    "pose()\n",
    "gauche()\n",
    "gauche()\n",
    "avance()\n",
    "avance()"
   ]
  },
  {
   "cell_type": "markdown",
   "metadata": {},
   "source": [
    "<a name=\"liste\"></a>\n",
    " ## Liste des niveaux :\n",
    "\n",
    "Voici la liste des niveaux. Pour changer de niveau vous n'avez qu'a changez le nom du niveau dans la 2ème cellule (exemple : Laby(\"this-is-crazy\") )\n",
    "    \n",
    "  - [x] 0\n",
    "  - [ ] 1a\n",
    "  - [ ] 1b\n",
    "  - [ ] 1c\n",
    "  - [ ] 2a\n",
    "  - [ ] 2b\n",
    "  - [ ] 2c\n",
    "  - [ ] 3a\n",
    "  - [ ] 3b\n",
    "  - [ ] 4a\n",
    "  - [ ] 4b\n",
    "  - [ ] counting-the-rocks\n",
    "  - [ ] this-is-crazy\n",
    "  "
   ]
  },
  {
   "cell_type": "markdown",
   "metadata": {},
   "source": [
    "# Documentation\n"
   ]
  },
  {
   "cell_type": "markdown",
   "metadata": {},
   "source": [
    "## Constantes\n",
    "<table>\n",
    "    <tr><td>Mur         </td><td><img src=\"include/laby/tiles_png/wall.png\"/></td></tr>\n",
    "    <tr><td>Caillou     </td><td><img src=\"include/laby/tiles_png/rock.png\"/>\n",
    "        </td><td>PetitCaillou</td><td><img src=\"include/laby/tiles_png/nrock.png\"/></td></tr>\n",
    "    <tr><td>Toile       </td><td><img src=\"include/laby/tiles_png/web.png\"/></td>\n",
    "        <td>PetiteToile</td><td><img src=\"include/laby/tiles_png/nweb.png\"/></td></tr>\n",
    "    <tr><td>Vide        </td><td><img src=\"include/laby/tiles_png/void.png\"/></td>\n",
    "        <td>Inconnu     </td><td></td></tr>\n",
    "</table>\n",
    "\n",
    "## Instructions\n",
    "\n",
    "    avance();       // Fait un pas vers l'avant\n",
    "    droite();       // Fait pivoter la fourmi vers la droite\n",
    "    gauche();       // ou la gauche\n",
    "    prend();        // Prend le caillou situé sur la case devant la fourmi\n",
    "    pose();         // Pose le caillou devant la fourmi\n",
    "    regarde();      // Renvoie Vide, Caillou, Mur, Toile, Sortie, ou Inconnu\n",
    "                    // selon ce qui se trouve sur la case devant la fourmi\n",
    "\n",
    "    ouvre();        // Ouvre la porte située devant la fourmi (fin du niveau)\n",
    "\n",
    "## Constructions\n",
    "\n",
    "Tant que la condition est respectée, répète les instructions:\n",
    "\n",
    "    while condition:\n",
    "        instructions\n",
    "    \n",
    "Pour tant d'itérations, répète les instructions:\n",
    "\n",
    "    for i in range (0,nombre d'itération):\n",
    "        instructions\n",
    "        \n",
    "Si condition est vrai, exécute les instructions 1 sinon les instructions 2:\n",
    "\n",
    "    if  condition:\n",
    "        instructions1\n",
    "    else: \n",
    "        instructions2\n",
    "    \n",
    "\n",
    "Défini une fonction f:\n",
    "\n",
    "    def f(): \n",
    "        instructions\n",
    "    "
   ]
  },
  {
   "cell_type": "code",
   "execution_count": null,
   "metadata": {},
   "outputs": [],
   "source": []
  }
 ],
 "metadata": {
  "celltoolbar": "Diaporama",
  "kernelspec": {
   "display_name": "Python 3",
   "language": "python",
   "name": "python3"
  },
  "language_info": {
   "codemirror_mode": {
    "name": "ipython",
    "version": 3
   },
   "file_extension": ".py",
   "mimetype": "text/x-python",
   "name": "python",
   "nbconvert_exporter": "python",
   "pygments_lexer": "ipython3",
   "version": "3.8.2"
  }
 },
 "nbformat": 4,
 "nbformat_minor": 4
}
