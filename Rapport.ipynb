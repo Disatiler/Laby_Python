{
 "cells": [
  {
   "cell_type": "markdown",
   "metadata": {},
   "source": [
    "# Rapport Laby_Python\n",
    "![laby](laby.png)\n",
    "### Cornic Erwan et Hainak Nicolas "
   ]
  },
  {
   "cell_type": "markdown",
   "metadata": {},
   "source": [
    "## Sommaire : "
   ]
  },
  {
   "cell_type": "markdown",
   "metadata": {},
   "source": [
    "\n",
    "- 3 - Mise en contexte\t\n",
    "\n",
    "- 4-\n",
    "\n",
    "    - 4.1 - Objectifs et motivations\t\n",
    "\n",
    "    - 4.2 Etapes de réalisation\t\n",
    "\n",
    "- 5-\n",
    "\n",
    "    - 5.1 - Expériences acquises\t\n",
    "\n",
    "    - 5.2 - Technologies\t\n",
    "\n",
    "- 6-\n",
    "\n",
    "    - 6.1 - Programmation\t\n",
    "\n",
    "    - 6.2 - Méthodologie\t\n",
    "\n",
    "    - 6.3 - Retour d’expérience\t\n",
    "\n",
    "\n",
    "\n"
   ]
  },
  {
   "cell_type": "markdown",
   "metadata": {},
   "source": [
    "### Mise en contexte\n",
    "\n",
    ">Le but de ce TER (travaux d'études et de recherches), est de faire des implémentations d'algorithmes qui soient interactifs, ce qui a pour objectif de voir l'évolution d'un algorithme pas à pas. Pour ce fait on utilise des widgets, il en existe de toute sorte qui permettent de faire un grand nombre d'interactions.\n",
    "\n",
    ">Pour ce projet, nous avons choisi de partir sur l'idée de transformer Laby (un outil que l'on a utilisé en première année de licence, qui permet d'apprendre à utiliser la base de la programmation) qui est de base un programme en C++ en Python, et par la suite ajouter de l'interaction à ce programme, chose que l'on expliquera par la suite. Ce jeu est assez simple à comprendre, le joueur contrôle une fourmi qui doit arriver à la porte, cela représente la sortie du niveau. Pour ce faire, le joueur peut appeler différentes méthodes qui permettent à la fourmi de se déplacer, bien sûr plus l’utilisateur avance dans les niveaux, plus il y aura de choses à gérer.Déplacer des obstacles ou en détruire par exemple.\n",
    "\n",
    ">Jupyter est une application utilisée pour programmer dans un certain nombre de langages, notamment Julia, Python et R (d'où JUlia, PYThon, et R). C'est un outil très intéressant car il permet de séparer son code d'une manière fluide et de pouvoir faire des affichages simplifiés. Il y a aussi un certain nombre de bibliothèques permettant de réaliser beaucoup de tâches entre de la visualisation de graphe ou bien le fait d'avoir des nombres random.\n",
    "\n",
    "### Objectifs et motivations\n",
    "\n",
    ">Notre objectif est la transformation du jeu Laby de C++ en Python. Mais il faut d'abord prendre en main différents widgets pour trouver comment le rendre interactif.  Et par la suite implémenter notre propre widget d’affichage. \n",
    "\n",
    ">Pour nos motivations on veut avoir quelque chose d'interactif et pratique d'utilisation, de concret comme le jeu de base pour apprendre des choses à des personnes qui vont utiliser ce programme, et enfin de réutilisable notamment avec le widget que l'on a implémenté et qui sera expliqué un peu plus tard.\n"
   ]
  },
  {
   "cell_type": "markdown",
   "metadata": {},
   "source": [
    "### Etapes de réalisation\n",
    "\n",
    "\t1) Nous avons commencé par comprendre comment le code était construit en C++.\n",
    "\t2) Nous avons dans un premier temps réalisé  l'affichage des différents niveaux.\n",
    "\t3) Par la suite, le déplacement de la fourmi, et les différentes fonctions qui vont avec  (porter, regarder etc.)\n",
    "\t4) La création de value_player_widget\n",
    "\t5)  Le lien entre notre widget et la résolution du niveau.\n",
    "\n",
    "\n",
    ">Nous obtenons à la fin un niveau que l’on a chargé, une cellule du Notebook permettant de faire appels aux différentes fonctions pour contrôler la fourmi et deux sliders, un permettant de contrôler la vitesse d’exécution du code que l’on a écrit, et un autre permettant de choisir à quel moment de l’historique on veut revenir.\n"
   ]
  },
  {
   "cell_type": "markdown",
   "metadata": {},
   "source": [
    "![laby](unknown.png)"
   ]
  },
  {
   "cell_type": "markdown",
   "metadata": {},
   "source": [
    "### Expériences acquises\n",
    "   #### Technologies\n",
    "\n",
    "\n",
    ">Tout d’abord, la prise en main de python, nous en avons tous les deux fait un peu durant notre licence mais sans jamais approfondir plus ce langage. Nous avons donc pu apprendre comment étaient gérées les classes, les méthodes statiques ou bien encore de nombreuses bibliothèque qu’il y avait.\n",
    "\n",
    "\n",
    ">Concernant les bibliothèques, nous avons  beaucoup utilisé celle de ipywidgets, notamment pour les HBox, VBox ou encore GridBox. Nous avons  eu l’avantage que cette bibliothèque soit assez complète en ligne avec des personnes qui avaient déjà eu des problèmes que nous avons rencontrés.\n",
    "\n",
    "\n",
    ">Et enfin Rise, qui est une extension de Jupyter Notebook qui permet de faire des diaporamas à partir de nos fichiers .ipynb, et, en plus de pouvoir exécuter du code pendant le diaporama.\n",
    "\n",
    "\n",
    "   #### Programmation\n",
    "\n",
    "\n",
    ">Nous avons appris à transformer un code de C++ en python, avec les inconvénients de chacun des langages. Par exemple le fait d’énumérer toutes les tuiles du jeu, le timer, l’héritage\n",
    "\n",
    ">Le non-typage des variables en Python donne une facilité dans le code mais peut avoir de problèmes en portée de variable par exemple.\n",
    "\n",
    ">Des structures simples de C++ tel que les class Enum (servant au énumération peuvent être diffèrente en quelque point et donc ne plus convenir à l'utilisation dont nous avions besoin. \n",
    "\n",
    "\n",
    "\n",
    "   #### Méthodologie\n",
    "\n",
    ">Avec notre value_player_widget, nos camarades peuvent avoir une visualisation pas à pas de leur(s) algorithme(s). \n",
    "\n",
    ">Étant donné que nous avions été deux pour ce projet, on a utilisé GitHub (un logiciel de contrôle de version permettant de partager des fichiers avec d’autres collaborateurs, sans modifier leur code).\n"
   ]
  },
  {
   "cell_type": "markdown",
   "metadata": {},
   "source": [
    "### Retour d’expérience\n",
    "\n",
    ">Avec ce projet, nous avons appris l’existence des widgets, qui permettent de faire des interactions avec nos algorithmes. Les widgets sont de différentes natures, on peut avoir des boutons ou encore des sliders. Nous pouvons donc dire que Jupyter est bien adapté dans le principe de programmation d’algorithme intéractif avec une bonne implémentation des algorithmes.\n",
    "\n",
    "**Note à un étudiant**\n",
    "\n",
    ">Jupyter permet de déboguer très facilement, en séparant notre code si on a une erreur, on peut localiser rapidement une erreur. \n",
    "\n",
    ">Les jupyter notebook peuvent être utile pour crée un code ajouter des commentaires ou des notes de facon claire tout en ayant des tests lisibles et des affichages progressif.\n",
    "\n",
    ">L'extension Rise de Jupyter permet de faire des Diaporama dynamique en incluant du code dedans et en ayant un facilité d'exécution et de simplicité .\n",
    "\n",
    "> Pour ce qui est l’échelle du réalisable, nous n’avons pas vu de limite, en tout cas pour la part des bibliothèques. Sans doute que certains algorithmes auront besoin de widgets en plus que les nôtres,et, qui ne sont pas encore implémenter.\n",
    "\n",
    ">Concernant la partie difficile, c’est de passer d’un langage à un autre ou encore passer du temps pour implémenter des algorithmes alors qu’ils sont déjà faits dans des bibliothèques.\n",
    "\n",
    "\n",
    "**Préconisations :** \n",
    "\n",
    ">Avoir une version Linux sous Windows ou un Linux natif, avoir (beaucoup) de places sur le disque si on souhaite avoir beaucoup de bibliothèques sous la main. Et avoir un bon niveau en anglais car comme souvent dans les codes en ligne on a beaucoup plus d’informations en ligne en anglais."
   ]
  },
  {
   "cell_type": "code",
   "execution_count": null,
   "metadata": {},
   "outputs": [],
   "source": []
  }
 ],
 "metadata": {
  "celltoolbar": "Tags",
  "kernelspec": {
   "display_name": "Python 3",
   "language": "python",
   "name": "python3"
  },
  "language_info": {
   "codemirror_mode": {
    "name": "ipython",
    "version": 3
   },
   "file_extension": ".py",
   "mimetype": "text/x-python",
   "name": "python",
   "nbconvert_exporter": "python",
   "pygments_lexer": "ipython3",
   "version": "3.8.2"
  }
 },
 "nbformat": 4,
 "nbformat_minor": 4
}
